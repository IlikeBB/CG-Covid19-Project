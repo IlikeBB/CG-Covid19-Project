{
 "cells": [
  {
   "cell_type": "code",
   "execution_count": 1,
   "metadata": {},
   "outputs": [],
   "source": [
    "import numpy as np, os, sys, pandas as pd\n",
    "import matplotlib.pyplot as plt\n",
    "\n",
    "from tqdm.notebook import tqdm\n",
    "from function import sequence_dataprocess"
   ]
  },
  {
   "cell_type": "code",
   "execution_count": 2,
   "metadata": {},
   "outputs": [],
   "source": [
    "version_type = 'ver2'\n",
    "convet_index_dict = {'ver1': 'Integer', 'ver2': 'EIIP', 'ver3': 'Atomic', 'ver4': 'Voss'}\n",
    "\n",
    "nas_path = \"./dataset_1401/\"\n",
    "filter_csv_1000 = pd.read_csv('./dataset_1401/ver1 to ver3  boruta choose 1000 position summary upate  ver2 20220531.csv')\n",
    "selection_filter = sorted(np.array(filter_csv_1000[version_type]-1)) #python list index start from 0\n",
    "lineage_label = np.array(pd.read_csv('./dataset_1401/1404_lineage_report and metadata 20220316.csv')[['lineage_x','diff']])\n",
    "fasta_data_path = './dataset_1401/1404.sequences.aln.fasta'"
   ]
  },
  {
   "cell_type": "code",
   "execution_count": 3,
   "metadata": {},
   "outputs": [
    {
     "name": "stdout",
     "output_type": "stream",
     "text": [
      "filter sample: 1135\n",
      "-----sample len-----\n",
      "total sequence shape 29903   ||   filter sequence shape 1000\n",
      "-----class name-----\n",
      "{'N': 0, 'Y': 1}\n",
      "{'-': 0, 'N': 1, 'A': 2, 'C': 3, 'G': 4, 'T': 5}\n"
     ]
    },
    {
     "data": {
      "application/vnd.jupyter.widget-view+json": {
       "model_id": "6e83abb4d5ed4bd58eea5553664104d8",
       "version_major": 2,
       "version_minor": 0
      },
      "text/plain": [
       "  0%|          | 0/1135 [00:00<?, ?it/s]"
      ]
     },
     "metadata": {},
     "output_type": "display_data"
    },
    {
     "data": {
      "application/vnd.jupyter.widget-view+json": {
       "model_id": "4dac5cdfad9946a69010a839fcaf787d",
       "version_major": 2,
       "version_minor": 0
      },
      "text/plain": [
       "  0%|          | 0/1135 [00:00<?, ?it/s]"
      ]
     },
     "metadata": {},
     "output_type": "display_data"
    }
   ],
   "source": [
    "seq_pro = sequence_dataprocess(gene_list='-NACGT')\n",
    "seq_data, seq_data_filter, class_name, num_class = seq_pro.dataframe_dataloader(fasta_data_path, lineage_label, selection_filter)\n",
    "# convert_seq = seq_pro.convert_gene_index(seq_data)\n",
    "convert_seq_filter = seq_pro.convert_gene_index(seq_data_filter)\n",
    "# convert_seq = seq_pro.gene_index_remaker(convert_seq, c_type='Integer')\n",
    "convert_seq_filter = seq_pro.gene_index_remaker(convert_seq_filter, c_type=convet_index_dict[version_type])"
   ]
  },
  {
   "cell_type": "code",
   "execution_count": 4,
   "metadata": {},
   "outputs": [],
   "source": [
    "if (np.max(convert_seq_filter) > 1) == True:\n",
    "    print('dfsdf')"
   ]
  },
  {
   "cell_type": "code",
   "execution_count": 5,
   "metadata": {},
   "outputs": [
    {
     "name": "stderr",
     "output_type": "stream",
     "text": [
      "/home/john/anaconda3/envs/deepinsight/lib/python3.7/site-packages/sklearn/manifold/_t_sne.py:783: FutureWarning: The default initialization in TSNE will change from 'random' to 'pca' in 1.2.\n",
      "  FutureWarning,\n",
      "/home/john/anaconda3/envs/deepinsight/lib/python3.7/site-packages/sklearn/manifold/_t_sne.py:793: FutureWarning: The default learning rate in TSNE will change from 200.0 to 'auto' in 1.2.\n",
      "  FutureWarning,\n",
      "/home/john/anaconda3/envs/deepinsight/lib/python3.7/site-packages/sklearn/manifold/_t_sne.py:827: FutureWarning: 'square_distances' has been introduced in 0.24 to help phase out legacy squaring behavior. The 'legacy' setting will be removed in 1.1 (renaming of 0.26), and the default setting will be changed to True. In 1.3, 'square_distances' will be removed altogether, and distances will be squared by default. Set 'square_distances'=True to silence this warning.\n",
      "  FutureWarning,\n"
     ]
    }
   ],
   "source": [
    "from pyDeepInsight import ImageTransformer, LogScaler\n",
    "from sklearn.manifold import TSNE\n",
    "from tqdm.notebook import tqdm\n",
    "ln = LogScaler()\n",
    "X_train_norm = ln.fit_transform(convert_seq_filter)\n",
    "\n",
    "tsne = TSNE(n_components=2, perplexity=50, metric='cosine',\n",
    "            random_state=1701, n_jobs=-1)\n",
    "            \n",
    "it =  ImageTransformer(feature_extractor=tsne, pixels=100)\n",
    "X_train_img = it.fit_transform(X_train_norm)"
   ]
  },
  {
   "cell_type": "code",
   "execution_count": 6,
   "metadata": {},
   "outputs": [
    {
     "data": {
      "image/png": "[encoded data removed]",
      "text/plain": [
       "<Figure size 1800x504 with 4 Axes>"
      ]
     },
     "metadata": {
      "needs_background": "light"
     },
     "output_type": "display_data"
    }
   ],
   "source": [
    "import pickle as pk, os\n",
    "save_model_path = './deepinsight_location_npy/'\n",
    "if os.path.exists(save_model_path)==False:\n",
    "    os.mkdir('./deepinsight_location_npy/')\n",
    "save_name = f'tsne-binary-perplexity=50-pixel=100[{convet_index_dict[version_type]}].pkl'\n",
    "# it = pk.load(open(\"./deepinsight_location_npy/tsne-binary-perplexity=50-pixel=400[onehot].pkl\",'rb'))\n",
    "pk.dump(it, open(os.path.join(save_model_path, save_name),\"wb\"))\n",
    "import matplotlib.pyplot as plt\n",
    "fig, ax = plt.subplots(1, 4, figsize=(25, 7))\n",
    "for i in range(0,4):\n",
    "    ax[i].imshow(X_train_img[i])\n",
    "    ax[i].title.set_text(\"Train[{}] \".format(i))\n",
    "plt.tight_layout()\n",
    "plt.savefig(f'./deepinsight_location_npy/tsne-binary-perplexity=50-pixel=100[{convet_index_dict[version_type]}].jpg')"
   ]
  },
  {
   "cell_type": "code",
   "execution_count": 7,
   "metadata": {},
   "outputs": [],
   "source": [
    "# save DeepInSight numpy list\n",
    "# multiclass_nactg multiclass_totalunit\n",
    "save_path = f'./np_image_totalunit/tsne-binary-perplexity=5-pixel=100[{convet_index_dict[version_type]}]/'\n",
    "if not os.path.exists(save_path):\n",
    "    os.mkdir(save_path)\n",
    "if not os.path.exists(os.path.join(save_path,'image_npy')):\n",
    "    os.mkdir(os.path.join(save_path,'image_npy'))\n",
    "\n",
    "np.save(f'{save_path}/label.npy',num_class)\n",
    "for idx, image in enumerate(X_train_img):\n",
    "    if (idx)<10:\n",
    "        np.save(f\"{save_path}/image_npy/000{idx}.npy\", image)\n",
    "    elif (idx)<100:\n",
    "        np.save(f\"{save_path}/image_npy/00{idx}.npy\", image)\n",
    "    elif (idx)<1000:\n",
    "        np.save(f\"{save_path}/image_npy/0{idx}.npy\", image)\n",
    "    else:\n",
    "        np.save(f\"{save_path}/image_npy/{idx}.npy\", image)\n",
    "        \n",
    "# save MLP numpy list\n",
    "save_path = f'./np_image_totalunit/mlp_{convet_index_dict[version_type]}'\n",
    "if not os.path.exists(save_path):\n",
    "    os.mkdir(save_path)\n",
    "np.save(os.path.join(save_path, 'label.npy'), num_class)\n",
    "np.save(os.path.join(save_path, 'gene.npy'), X_train_norm)\n"
   ]
  },
  {
   "cell_type": "code",
   "execution_count": null,
   "metadata": {},
   "outputs": [],
   "source": []
  }
 ],
 "metadata": {
  "interpreter": {
   "hash": "c7e03d6feef9f460a8719d2376e3019088330392fc43676d10494b1071d44477"
  },
  "kernelspec": {
   "display_name": "Python 3.7.11 ('deepinsight')",
   "language": "python",
   "name": "python3"
  },
  "language_info": {
   "codemirror_mode": {
    "name": "ipython",
    "version": 3
   },
   "file_extension": ".py",
   "mimetype": "text/x-python",
   "name": "python",
   "nbconvert_exporter": "python",
   "pygments_lexer": "ipython3",
   "version": "3.7.11"
  },
  "orig_nbformat": 4
 },
 "nbformat": 4,
 "nbformat_minor": 2
}
