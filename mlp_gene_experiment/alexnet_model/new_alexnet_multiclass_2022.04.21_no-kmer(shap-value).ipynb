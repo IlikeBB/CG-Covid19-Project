{
 "cells": [
  {
   "cell_type": "code",
   "execution_count": 1,
   "metadata": {},
   "outputs": [
    {
     "data": {
      "text/plain": [
       "<torch._C.Generator at 0x7febcc074130>"
      ]
     },
     "execution_count": 1,
     "metadata": {},
     "output_type": "execute_result"
    }
   ],
   "source": [
    "import torch, shap, glob, os\n",
    "import numpy as np, pandas as pd, torchvision.transforms as transforms\n",
    "import random\n",
    "\n",
    "from Bio import SeqIO\n",
    "from tqdm.notebook import tqdm\n",
    "from torch.nn import Module\n",
    "from torch import nn\n",
    "from torch.utils.data import Dataset, DataLoader, Subset\n",
    "from PIL import Image\n",
    "from sklearn.model_selection import StratifiedShuffleSplit\n",
    "from sklearn.model_selection import train_test_split\n",
    "from torchvision.models import  resnet18, alexnet\n",
    "\n",
    "np.random.seed(2020)\n",
    "random.seed(2020)\n",
    "torch.manual_seed(2020)"
   ]
  },
  {
   "cell_type": "code",
   "execution_count": 2,
   "metadata": {},
   "outputs": [],
   "source": [
    "save_weight_path ='./models/weights_Multiclass_Covid19(Non-kmer3)_IndexRemark.2022.03.30[NATCG]/'\n",
    "# save_weight_path = './models/weights_Multiclass_Covid19(Non-kmer3)_IndexRemark.2022.03.24[NACGTRYKMSWBDHV]/'\n",
    "\n",
    "weights_name = \"weights_Multiclass_Covid19(Non-kmer3)[NACGT].2022.03.30.pt\"\n",
    "# weights_name = \"weights_Multiclass_Covid19(Non-kmer3)[NACGTRYKMSWBDHV].2022.03.24.pt\"\n",
    "\n",
    "path2weights = os.path.join(save_weight_path,weights_name)"
   ]
  },
  {
   "cell_type": "code",
   "execution_count": 3,
   "metadata": {},
   "outputs": [],
   "source": [
    "# npy_path = './np_image_totalunit/multiclass_totalunit/'\n",
    "npy_path = './np_image_totalunit/multiclass_nactg/'"
   ]
  },
  {
   "cell_type": "code",
   "execution_count": 4,
   "metadata": {},
   "outputs": [],
   "source": [
    "npy_data_list = [os.path.join(npy_path,'image_npy',i ) for i in sorted(os.listdir(os.path.join(npy_path,'image_npy')))]\n",
    "label_ = np.load(os.path.join(npy_path,'label.npy'))"
   ]
  },
  {
   "cell_type": "code",
   "execution_count": 5,
   "metadata": {},
   "outputs": [
    {
     "name": "stdout",
     "output_type": "stream",
     "text": [
      "1053 1053\n",
      "351 351\n"
     ]
    }
   ],
   "source": [
    "X_train, X_test, y_train, y_test = train_test_split(npy_data_list, label_,stratify = label_, test_size=0.25, random_state=42)\n",
    "\n",
    "print(len(X_train), len(y_train)) \n",
    "\n",
    "print(len(X_test), len(y_test))"
   ]
  },
  {
   "cell_type": "code",
   "execution_count": 6,
   "metadata": {},
   "outputs": [],
   "source": [
    "class TransferDataset(Dataset):\n",
    "    def __init__(self, s_path, labels, transform):\n",
    "        self.transform = transform\n",
    "        self.s_path = s_path\n",
    "        self.labels = labels\n",
    "        \n",
    "    def __len__(self):\n",
    "        return len(self.s_path)\n",
    "\n",
    "    def __getitem__(self, idx):\n",
    "        singel_image_ = np.load(self.s_path[idx]).astype(np.float32)\n",
    "        seed = np.random.randint(1e9)       \n",
    "        random.seed(seed)\n",
    "        np.random.seed(seed)\n",
    "        singel_image_ = self.transform(singel_image_)\n",
    "        label = int(self.labels[idx])\n",
    "        # print(label)\n",
    "\n",
    "        return singel_image_, label"
   ]
  },
  {
   "cell_type": "code",
   "execution_count": 7,
   "metadata": {},
   "outputs": [
    {
     "name": "stdout",
     "output_type": "stream",
     "text": [
      "1053 351\n"
     ]
    }
   ],
   "source": [
    "transformer = transforms.Compose([\n",
    "            transforms.ToTensor(),\n",
    "            # transforms.Normalize(mean, std),\n",
    "            ])     \n",
    "\n",
    "train_ds = TransferDataset(s_path= X_train, labels= y_train, transform= transformer)\n",
    "test_ds = TransferDataset(s_path= X_test, labels= y_test, transform= transformer)\n",
    "print(len(train_ds), len(test_ds))"
   ]
  },
  {
   "cell_type": "code",
   "execution_count": 8,
   "metadata": {},
   "outputs": [
    {
     "data": {
      "text/plain": [
       "AlexNet(\n",
       "  (features): Sequential(\n",
       "    (0): Conv2d(3, 64, kernel_size=(11, 11), stride=(4, 4), padding=(2, 2))\n",
       "    (1): ReLU(inplace=True)\n",
       "    (2): MaxPool2d(kernel_size=3, stride=2, padding=0, dilation=1, ceil_mode=False)\n",
       "    (3): Conv2d(64, 192, kernel_size=(5, 5), stride=(1, 1), padding=(2, 2))\n",
       "    (4): ReLU(inplace=True)\n",
       "    (5): MaxPool2d(kernel_size=3, stride=2, padding=0, dilation=1, ceil_mode=False)\n",
       "    (6): Conv2d(192, 384, kernel_size=(3, 3), stride=(1, 1), padding=(1, 1))\n",
       "    (7): ReLU(inplace=True)\n",
       "    (8): Conv2d(384, 256, kernel_size=(3, 3), stride=(1, 1), padding=(1, 1))\n",
       "    (9): ReLU(inplace=True)\n",
       "    (10): Conv2d(256, 256, kernel_size=(3, 3), stride=(1, 1), padding=(1, 1))\n",
       "    (11): ReLU(inplace=True)\n",
       "    (12): MaxPool2d(kernel_size=3, stride=2, padding=0, dilation=1, ceil_mode=False)\n",
       "  )\n",
       "  (avgpool): AdaptiveAvgPool2d(output_size=(6, 6))\n",
       "  (classifier): Sequential(\n",
       "    (0): Dropout(p=0.5, inplace=False)\n",
       "    (1): Linear(in_features=9216, out_features=4096, bias=True)\n",
       "    (2): ReLU(inplace=True)\n",
       "    (3): Dropout(p=0.5, inplace=False)\n",
       "    (4): Linear(in_features=4096, out_features=4096, bias=True)\n",
       "    (5): ReLU(inplace=True)\n",
       "    (6): Linear(in_features=4096, out_features=10, bias=True)\n",
       "  )\n",
       ")"
      ]
     },
     "execution_count": 8,
     "metadata": {},
     "output_type": "execute_result"
    }
   ],
   "source": [
    "# eval\n",
    "models = alexnet(pretrained=False, num_classes=max(label_)+1)\n",
    "\n",
    "device = torch.device(\"cuda:0\" if torch.cuda.is_available() else \"cpu\")\n",
    "checkpoint = torch.load(path2weights, map_location=torch.device('cpu'))\n",
    "# checkpoint = torch.load('./models/weights_Multiclass_Covid19(Non-kmer3)_IndexRemark.2022.03.24[NACGTRYKMSWBDHV]/weights_Multiclass_Covid19(Non-kmer3)[NACGTRYKMSWBDHV].2022.03.24.pt', map_location=torch.device('cpu'))\n",
    "models.load_state_dict(checkpoint['model_state_dict'])\n",
    "models.to(device)"
   ]
  },
  {
   "cell_type": "code",
   "execution_count": 9,
   "metadata": {},
   "outputs": [
    {
     "name": "stdout",
     "output_type": "stream",
     "text": [
      "1053 351\n"
     ]
    }
   ],
   "source": [
    "print(len(train_ds), len(test_ds))"
   ]
  },
  {
   "cell_type": "code",
   "execution_count": 10,
   "metadata": {},
   "outputs": [],
   "source": [
    "train_dl = DataLoader(train_ds, batch_size= 1053, \n",
    "                        shuffle=False)\n",
    "test_dl = DataLoader(test_ds, batch_size= 351, \n",
    "                        shuffle=False)  "
   ]
  },
  {
   "cell_type": "code",
   "execution_count": 11,
   "metadata": {},
   "outputs": [],
   "source": [
    "# {'Alpha': 0, 'B.1.1.318-like': 1, 'Beta': 2, 'Delta': 3, 'Eta': 4, 'Gamma': 5, 'Iota': 6, 'Lambda': 7, 'Mu': 8, 'None': 9}\n",
    "models.eval()\n",
    "with torch.no_grad():\n",
    "    batch = next(iter(test_dl))\n",
    "    images, label = batch\n",
    "    pred = models(images.to(device))\n",
    "    Y_val = label"
   ]
  },
  {
   "cell_type": "code",
   "execution_count": 12,
   "metadata": {},
   "outputs": [
    {
     "name": "stdout",
     "output_type": "stream",
     "text": [
      "torch.Size([1053, 3, 100, 100]) torch.Size([1053])\n",
      "torch.Size([351, 3, 100, 100]) torch.Size([351])\n"
     ]
    }
   ],
   "source": [
    "# since shuffle=True, this is a random sample of test data\n",
    "test_batch = next(iter(test_dl))\n",
    "t_images, t_label = test_batch\n",
    "\n",
    "batch_background = next(iter(train_dl))\n",
    "b_images, b_label = batch_background\n",
    "\n",
    "print(b_images.shape, b_label.shape)\n",
    "print(t_images.shape, t_label.shape)"
   ]
  },
  {
   "cell_type": "code",
   "execution_count": 13,
   "metadata": {},
   "outputs": [],
   "source": [
    "e = shap.DeepExplainer(models, b_images.to(device))\n",
    "# e = shap.DeepExplainer(models, b_images.cpu())"
   ]
  },
  {
   "cell_type": "code",
   "execution_count": 14,
   "metadata": {},
   "outputs": [],
   "source": [
    "seq_list = [[idx, image, label] for idx, (image, label) in enumerate(zip(X_test, y_test))]\n",
    "seq_index_list = [int(i[1][-8:-4]) for i in seq_list]\n",
    "# print(len(t_images), len(seq_index_list))"
   ]
  },
  {
   "cell_type": "code",
   "execution_count": 15,
   "metadata": {},
   "outputs": [
    {
     "data": {
      "text/plain": [
       "[1, './np_image_totalunit/multiclass_nactg/image_npy/0180.npy', 3]"
      ]
     },
     "execution_count": 15,
     "metadata": {},
     "output_type": "execute_result"
    }
   ],
   "source": [
    "seq_list[1]"
   ]
  },
  {
   "cell_type": "code",
   "execution_count": 16,
   "metadata": {},
   "outputs": [
    {
     "data": {
      "text/plain": [
       "(torch.Size([351, 3, 100, 100]), 351)"
      ]
     },
     "execution_count": 16,
     "metadata": {},
     "output_type": "execute_result"
    }
   ],
   "source": [
    "t_images.shape, len(seq_list)"
   ]
  },
  {
   "cell_type": "code",
   "execution_count": 17,
   "metadata": {},
   "outputs": [
    {
     "data": {
      "application/vnd.jupyter.widget-view+json": {
       "model_id": "f10eb1649370489da8d9592307d81d69",
       "version_major": 2,
       "version_minor": 0
      },
      "text/plain": [
       "0it [00:00, ?it/s]"
      ]
     },
     "metadata": {},
     "output_type": "display_data"
    },
    {
     "name": "stderr",
     "output_type": "stream",
     "text": [
      "Using a non-full backward hook when the forward contains multiple autograd Nodes is deprecated and will be removed in future versions. This hook will be missing some grad_input. Please use register_full_backward_hook to get the documented behavior.\n",
      "Note that order of the arguments: ceil_mode and return_indices will changeto match the args list in nn.MaxPool2d in a future release.\n"
     ]
    }
   ],
   "source": [
    "from tqdm.notebook import tqdm\n",
    "# # save npy\n",
    "save_path = './shap_npy/multiclass_nactg_2022.03.30-2'\n",
    "if not os.path.exists(save_path):\n",
    "    os.mkdir(save_path)\n",
    "for idx, (img_, seq_n) in enumerate(tqdm(zip(t_images[250::],seq_list[250::]))):\n",
    "    sav_name = seq_n[1][-8:-4]\n",
    "    sv = e.shap_values(torch.unsqueeze(img_, axis=0))\n",
    "    np.save(f\"{save_path}/{sav_name}.npy\", sv)\n",
    "#     # break\n"
   ]
  },
  {
   "cell_type": "code",
   "execution_count": 18,
   "metadata": {},
   "outputs": [
    {
     "data": {
      "text/plain": [
       "[0, './np_image_totalunit/multiclass_nactg/image_npy/0194.npy', 3]"
      ]
     },
     "execution_count": 18,
     "metadata": {},
     "output_type": "execute_result"
    }
   ],
   "source": [
    "seq_list[0]"
   ]
  },
  {
   "cell_type": "code",
   "execution_count": 19,
   "metadata": {},
   "outputs": [],
   "source": [
    "nas_path = \"./dataset_1401/\"\n",
    "lineage_label = pd.read_csv('./dataset_1401/1404_lineage_report and metadata 20220316.csv')[['scorpio_call_y','diff','region']]\n",
    "lineage_label = np.array(lineage_label.fillna(\"None\"))\n",
    "label_s = []\n",
    "name_ = []\n",
    "new_lineage_label = []\n",
    "for idx, rna in enumerate(SeqIO.parse('./dataset_1401/1404.sequences.aln.fasta',\"fasta\")):\n",
    "    # print(lineage_label[idx][0].split(' ')[0])\n",
    "    label_s.append([lineage_label[idx][0].split(' ')[0], lineage_label[idx][2]])\n",
    "    name_.append(lineage_label[idx][0])\n",
    "    new_lineage_label.append(str(rna.seq).replace('-','N'))"
   ]
  },
  {
   "cell_type": "code",
   "execution_count": 84,
   "metadata": {},
   "outputs": [
    {
     "data": {
      "application/vnd.jupyter.widget-view+json": {
       "model_id": "a65ddca85af5436986fdbc86d8511463",
       "version_major": 2,
       "version_minor": 0
      },
      "text/plain": [
       "0it [00:00, ?it/s]"
      ]
     },
     "metadata": {},
     "output_type": "display_data"
    },
    {
     "name": "stdout",
     "output_type": "stream",
     "text": [
      "t-sne [X,Y]:  (10, 29)\n",
      "shap [X,Y] values:  5.101e-07\n",
      "shap map = t-sne[X,Y]:  [14853 14856 14859 14862 14865 14868 14873 14880 14884 14889 14892 14893]\n",
      "Seq Index RNA:  ['G', 'G', 'G', 'G', 'G', 'G', 'G', 'G', 'G', 'G', 'G', 'G']\n",
      "t-sne [X,Y]:  (10, 30)\n",
      "shap [X,Y] values:  2.38e-08\n",
      "shap map = t-sne[X,Y]:  [14676 14677 14691 14700 14706 14709 14711 14717 14718 14719 14729 14730\n",
      " 14733 14734 14737 14742 14745 14766 14771 14772 14775 14776 15877 15893\n",
      " 15897 15905 15906 15907 15909 15912 15918 15920 15936 15946 15954 15955\n",
      " 15956 15957 15960 15961 15964 15969 15972 15975 15981 15990 15993 15994\n",
      " 16004 16012 16013 16017 16019 16026 16032 16035 16064 16065 16067 16071\n",
      " 16074 16077 16088 16105 16109 16116 16119 16121 16128 16129 16136 16140]\n",
      "Seq Index RNA:  ['G', 'G', 'G', 'G', 'G', 'G', 'G', 'G', 'G', 'G', 'G', 'G', 'G', 'G', 'G', 'G', 'G', 'G', 'G', 'G', 'G', 'G', 'G', 'G', 'G', 'G', 'G', 'G', 'G', 'G', 'G', 'G', 'G', 'G', 'G', 'G', 'G', 'G', 'G', 'G', 'G', 'G', 'G', 'G', 'G', 'G', 'G', 'G', 'G', 'G', 'G', 'G', 'G', 'G', 'G', 'G', 'G', 'G', 'G', 'G', 'G', 'G', 'G', 'G', 'G', 'G', 'G', 'G', 'G', 'G', 'G', 'G']\n",
      "t-sne [X,Y]:  (11, 28)\n",
      "shap [X,Y] values:  2.164e-07\n",
      "shap map = t-sne[X,Y]:  [14781 14784 14791 14793 14799 14809 14828 14830 14832 14839]\n",
      "Seq Index RNA:  ['G', 'G', 'G', 'G', 'G', 'G', 'G', 'G', 'G', 'G']\n"
     ]
    }
   ],
   "source": [
    "label_class = ['Alpha', 'B.1.1.318-like', 'Beta', 'Delta', 'Eta', 'Gamma', 'Iota', 'Lambda', 'Mu', 'None']\n",
    "location_map =np.load('./deepinsight_location_npy/coords_[NACGT]-multiclass=1404.npy')\n",
    "square_map = np.load('./deepinsight_location_npy/feature_density_matrix_[NACGT]-multiclass=1404.npy')\n",
    "total_sv_image_class_dict = {'Alpha': [], 'B.1.1.318-like':[], 'Beta':[], 'Delta':[], 'Eta':[], 'Gamma':[], 'Iota':[], 'Lambda':[], 'Mu':[], 'None':[]}\n",
    "label_class = ['Alpha', 'B.1.1.318-like', 'Beta', 'Delta', 'Eta', 'Gamma', 'Iota', 'Lambda', 'Mu', 'None']\n",
    "\n",
    "for idx1, (exp_image, sv_npy) in enumerate(tqdm(zip(t_images[250::], seq_list[250::]))):\n",
    "    if label_class[Y_val[idx1]]==label_class[np.argmax(pred.cpu().numpy(), axis=1)[idx1]]: # if ground truth == predict result\n",
    "        sav_name = sv_npy[1][-8:-4]\n",
    "\n",
    "        load_ = np.load(os.path.join(save_path,f\"{sav_name}.npy\"))\n",
    "        # print(load_.shape)\n",
    "        shap_numpy = [np.swapaxes(np.swapaxes(s, 1, -1), 1, 2) for s in load_]\n",
    "\n",
    "        # Extract Seq Image feature\n",
    "        image = np.squeeze(shap_numpy[np.argmax(pred.cpu().numpy(), axis=1)[idx1]])\n",
    "        # image_sum = image[:,:,0] #RGB each value was different\n",
    "        image_sum = image[:,:,0]+image[:,:,1]+image[:,:,2]\n",
    "        single_seq = new_lineage_label[int(sav_name)] #get original sequence\n",
    "        important_location = {}\n",
    "        # print(np.sum(image[:,:,0]), np.sum(image[:,:,1]), np.sum(image[:,:,2]))\n",
    "        for  x_id, x_value in enumerate(image_sum):\n",
    "            for y_id, y_value in enumerate(x_value):\n",
    "                if y_value!=0:\n",
    "                    important_location[x_id,y_id] = round(y_value,10)\n",
    "                    # print(f\"[{x_id},{y_id}] = {round(y_value,4)}\")\n",
    "        # print(location_map.shape)\n",
    "        # print(len(important_location))\n",
    "        # print(location_map[0:5])\n",
    "        # print(important_location[10,29])\n",
    "        # print(np.where((location_map[:,0] == 10) & (location_map[:,1] == 29)))\n",
    "        # print(\"Sequence\",sav_name)\n",
    "        Sample_filter_important_value_list = []\n",
    "        count = 0\n",
    "        for idx2 in important_location:\n",
    "            if count<3:\n",
    "                \n",
    "                print(\"t-sne [X,Y]: \",idx2)\n",
    "                print(\"shap [X,Y] values: \", important_location[idx2])\n",
    "                temp = np.where((location_map[:,0] == idx2[0]) & (location_map[:,1] == idx2[1]))[0]\n",
    "                print(\"shap map = t-sne[X,Y]: \", temp)\n",
    "                print(\"Seq Index RNA: \", [single_seq[i] for i in temp])\n",
    "                count+=1\n",
    "            else:\n",
    "                break\n",
    "        break\n",
    "        # for idx2, (seq_rna, location_xy) in enumerate(zip(single_seq, location_map)):\n",
    "        #     if (location_xy[0], location_xy[1]) in (list(important_location.keys())):\n",
    "        #         # print(\"Seq Index: \",idx,\"Acid: \", seq_rna, \"Mat location [X, Y]: \",location_xy ,\"Value: \", important_location[location_xy[0], location_xy[1]])\n",
    "        #         Sample_filter_important_value_list.append([idx2, seq_rna, location_xy, important_location[location_xy[0], location_xy[1]]]) #save single sequnce index, epch [X, Y] position point, point weight\n",
    "        # Sample_filter_important_value_list.sort(key = lambda s: s[3], reverse = True)\n",
    "        # total_sv_image_class_dict[label_class[np.argmax(pred.cpu().numpy(), axis=1)[idx1]]].append([Sample_filter_important_value_list, sv_npy[3][1]]) #predict sequcne +  local country name"
   ]
  },
  {
   "cell_type": "code",
   "execution_count": null,
   "metadata": {},
   "outputs": [],
   "source": [
    "class_dict = {}\n",
    "for classes in total_sv_image_class_dict:\n",
    "    class_dict[classes] = {}\n",
    "    if len(total_sv_image_class_dict[classes])!=0:\n",
    "        index_location_dict = {}\n",
    "        for single_seq in total_sv_image_class_dict[classes]:\n",
    "            for rna_position in single_seq[0]:\n",
    "                if (rna_position[0], rna_position[1]) not  in index_location_dict.keys():\n",
    "                    index_location_dict[rna_position[0], rna_position[1]] = rna_position[-1]\n",
    "                else:\n",
    "                    index_location_dict[rna_position[0], rna_position[1]] += rna_position[-1]\n",
    "        print(len(index_location_dict))\n",
    "        class_dict[classes] = index_location_dict\n",
    "        # #     break\n",
    "        # # break\n",
    "    "
   ]
  },
  {
   "cell_type": "code",
   "execution_count": null,
   "metadata": {},
   "outputs": [],
   "source": [
    "for i in class_dict.keys():\n",
    "    class_dict[i] = {k: v for k, v in sorted(class_dict[i].items(), key=lambda item: item[1], reverse=True)}\n",
    "\n",
    "class_dict_minus_sign ={}\n",
    "for i in class_dict.keys():\n",
    "    class_dict_minus_sign[i] = {k: v for k, v in sorted(class_dict[i].items(), key=lambda item: item[1], reverse=False)}"
   ]
  },
  {
   "cell_type": "code",
   "execution_count": null,
   "metadata": {},
   "outputs": [],
   "source": [
    "for i in class_dict:\n",
    "    print(i, list(class_dict[i].keys())[0:20])\n"
   ]
  },
  {
   "cell_type": "code",
   "execution_count": null,
   "metadata": {},
   "outputs": [],
   "source": [
    "import matplotlib.pyplot as plt\n",
    "title_label = 'N'\n",
    "count = 0\n",
    "label_plus = []\n",
    "values_plus = []\n",
    "\n",
    "label_minus_sign = []\n",
    "values_minus_sign = []\n",
    "for i in class_dict[title_label]:\n",
    "        if count!=30:\n",
    "                label_plus.append(str(i))\n",
    "                values_plus.append(class_dict[title_label][i])\n",
    "                count+=1\n",
    "        else:\n",
    "                break\n",
    "for i in class_dict_minus_sign[title_label]:\n",
    "        if count!=60:\n",
    "                label_minus_sign.append(str(i))\n",
    "                values_minus_sign.append(class_dict_minus_sign[title_label][i])\n",
    "                count+=1\n",
    "        else:\n",
    "                break\n",
    "plt.figure(figsize=(8, 10))\n",
    "plt.barh(label_minus_sign,\n",
    "        [i/1 for i in values_minus_sign])\n",
    "plt.barh(label_plus[::-1],\n",
    "        [i/1 for i in values_plus[::-1]])\n",
    "x_ticks=np.arange(int(min(values_minus_sign))//1,int(max(values_plus))//1,2) \n",
    "plt.xticks(x_ticks)     \n",
    "# plt.xticks(rotation='vertical')\n",
    "plt.xlabel(\"value\")\n",
    "\n",
    "plt.ylabel(\"RNA Index\")\n",
    "plt.title(title_label)\n",
    "plt.tight_layout()\n",
    "\n",
    "plt.grid()\n",
    "plt.show()"
   ]
  },
  {
   "cell_type": "code",
   "execution_count": null,
   "metadata": {},
   "outputs": [],
   "source": [
    "import matplotlib.pyplot as plt\n",
    "title_label = 'Y'\n",
    "count = 0\n",
    "label_plus = []\n",
    "values_plus = []\n",
    "\n",
    "label_minus_sign = []\n",
    "values_minus_sign = []\n",
    "for i in class_dict[title_label]:\n",
    "        if count!=30:\n",
    "                label_plus.append(str(i))\n",
    "                values_plus.append(class_dict[title_label][i])\n",
    "                count+=1\n",
    "        else:\n",
    "                break\n",
    "for i in class_dict_minus_sign[title_label]:\n",
    "        if count!=60:\n",
    "                label_minus_sign.append(str(i))\n",
    "                values_minus_sign.append(class_dict_minus_sign[title_label][i])\n",
    "                count+=1\n",
    "        else:\n",
    "                break\n",
    "plt.figure(figsize=(8, 10))\n",
    "plt.barh(label_minus_sign,\n",
    "        [i/1 for i in values_minus_sign])\n",
    "plt.barh(label_plus[::-1],\n",
    "        [i/1 for i in values_plus[::-1]])\n",
    "x_ticks=np.arange(int(min(values_minus_sign))//1,int(max(values_plus))//1,2) \n",
    "plt.xticks(x_ticks)     \n",
    "# plt.xticks(rotation='vertical')\n",
    "plt.xlabel(\"value\")\n",
    "\n",
    "plt.ylabel(\"RNA Index\")\n",
    "plt.title(title_label)\n",
    "plt.tight_layout()\n",
    "\n",
    "plt.grid()\n",
    "plt.show()"
   ]
  }
 ],
 "metadata": {
  "interpreter": {
   "hash": "cefeaee0cb99e52f47ecbf6a0fec4d636206690d7e9c62031f057a9471691d65"
  },
  "kernelspec": {
   "display_name": "Python 3.6.13 ('lstm_pyt')",
   "language": "python",
   "name": "python3"
  },
  "language_info": {
   "codemirror_mode": {
    "name": "ipython",
    "version": 3
   },
   "file_extension": ".py",
   "mimetype": "text/x-python",
   "name": "python",
   "nbconvert_exporter": "python",
   "pygments_lexer": "ipython3",
   "version": "3.7.11"
  },
  "orig_nbformat": 4
 },
 "nbformat": 4,
 "nbformat_minor": 2
}
